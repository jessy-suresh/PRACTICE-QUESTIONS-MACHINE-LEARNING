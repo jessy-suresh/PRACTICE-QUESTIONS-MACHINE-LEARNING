{
  "nbformat": 4,
  "nbformat_minor": 0,
  "metadata": {
    "colab": {
      "provenance": [],
      "authorship_tag": "ABX9TyPY2V+QLv/3nH/qmnsCrvgZ",
      "include_colab_link": true
    },
    "kernelspec": {
      "name": "python3",
      "display_name": "Python 3"
    },
    "language_info": {
      "name": "python"
    }
  },
  "cells": [
    {
      "cell_type": "markdown",
      "metadata": {
        "id": "view-in-github",
        "colab_type": "text"
      },
      "source": [
        "<a href=\"https://colab.research.google.com/github/jessy-suresh/PRACTICE-QUESTIONS-MACHINE-LEARNING/blob/main/linear_regression.ipynb\" target=\"_parent\"><img src=\"https://colab.research.google.com/assets/colab-badge.svg\" alt=\"Open In Colab\"/></a>"
      ]
    },
    {
      "cell_type": "code",
      "execution_count": 1,
      "metadata": {
        "colab": {
          "base_uri": "https://localhost:8080/"
        },
        "id": "X_4hJrB9lc5n",
        "outputId": "26d80fe0-26c8-4191-80bd-c2b170efebaf"
      },
      "outputs": [
        {
          "output_type": "stream",
          "name": "stdout",
          "text": [
            "Intercept: 1.51\n",
            "Slope: 2.47\n",
            "Predictions for [5, 10, 15]: [13.8715985  26.22834134 38.58508418]\n"
          ]
        }
      ],
      "source": [
        "import numpy as np\n",
        "import matplotlib.pyplot as plt\n",
        "\n",
        "class LinearRegression:\n",
        "    def __init__(self):\n",
        "        self.slope = None\n",
        "        self.intercept = None\n",
        "\n",
        "    def fit(self, X, y):\n",
        "        \"\"\"\n",
        "        Fit linear regression model using normal equation\n",
        "        X: feature matrix (n_samples, n_features)\n",
        "        y: target vector (n_samples,)\n",
        "        \"\"\"\n",
        "        # Add bias term (intercept)\n",
        "        X_with_bias = np.column_stack([np.ones(X.shape[0]), X])\n",
        "\n",
        "        # Normal equation: θ = (X^T X)^(-1) X^T y\n",
        "        theta = np.linalg.inv(X_with_bias.T @ X_with_bias) @ X_with_bias.T @ y\n",
        "\n",
        "        self.intercept = theta[0]\n",
        "        self.slope = theta[1:]\n",
        "\n",
        "    def predict(self, X):\n",
        "        \"\"\"Make predictions\"\"\"\n",
        "        if self.slope is None:\n",
        "            raise ValueError(\"Model must be fitted before prediction\")\n",
        "        return self.intercept + X @ self.slope\n",
        "\n",
        "    def score(self, X, y):\n",
        "        \"\"\"Calculate R-squared score\"\"\"\n",
        "        y_pred = self.predict(X)\n",
        "        ss_res = np.sum((y - y_pred) ** 2)\n",
        "        ss_tot = np.sum((y - np.mean(y)) ** 2)\n",
        "        return 1 - (ss_res / ss_tot)\n",
        "\n",
        "# Generate sample data\n",
        "np.random.seed(42)\n",
        "X = np.random.randn(100, 1) * 10  # Single feature\n",
        "y = 2.5 * X.flatten() + 1.5 + np.random.randn(100) * 2  # y = 2.5x + 1.5 + noise\n",
        "\n",
        "# Fit the model\n",
        "model = LinearRegression()\n",
        "model.fit(X, y)\n",
        "\n",
        "# Make predictions\n",
        "X_test = np.array([[5], [10], [15]])\n",
        "predictions = model.predict(X_test)\n",
        "\n",
        "print(f\"Intercept: {model.intercept:.2f}\")\n",
        "print(f\"Slope: {model.slope[0]:.2f}\")\n",
        "print(f\"Predictions for [5, 10, 15]: {predictions}\")"
      ]
    },
    {
      "cell_type": "code",
      "source": [
        "class LinearRegressionGD:\n",
        "    def __init__(self, learning_rate=0.01, n_iter=1000):\n",
        "        self.learning_rate = learning_rate\n",
        "        self.n_iter = n_iter\n",
        "        self.theta = None\n",
        "        self.loss_history = []\n",
        "\n",
        "    def fit(self, X, y):\n",
        "        \"\"\"Fit using gradient descent\"\"\"\n",
        "        # Add bias term\n",
        "        X_with_bias = np.column_stack([np.ones(X.shape[0]), X])\n",
        "\n",
        "        # Initialize parameters\n",
        "        self.theta = np.random.randn(X_with_bias.shape[1])\n",
        "\n",
        "        for i in range(self.n_iter):\n",
        "            # Predictions\n",
        "            y_pred = X_with_bias @ self.theta\n",
        "\n",
        "            # Compute gradients\n",
        "            gradients = (2 / len(y)) * X_with_bias.T @ (y_pred - y)\n",
        "\n",
        "            # Update parameters\n",
        "            self.theta -= self.learning_rate * gradients\n",
        "\n",
        "            # Compute and store loss\n",
        "            loss = np.mean((y_pred - y) ** 2)\n",
        "            self.loss_history.append(loss)\n",
        "\n",
        "    def predict(self, X):\n",
        "        \"\"\"Make predictions\"\"\"\n",
        "        if self.theta is None:\n",
        "            raise ValueError(\"Model must be fitted before prediction\")\n",
        "        X_with_bias = np.column_stack([np.ones(X.shape[0]), X])\n",
        "        return X_with_bias @ self.theta\n",
        "\n",
        "# Usage example\n",
        "model_gd = LinearRegressionGD(learning_rate=0.01, n_iter=1000)\n",
        "model_gd.fit(X, y)\n",
        "predictions_gd = model_gd.predict(X_test)\n",
        "\n",
        "print(f\"GD Parameters: {model_gd.theta}\")"
      ],
      "metadata": {
        "colab": {
          "base_uri": "https://localhost:8080/"
        },
        "id": "4oNfBHbGmctg",
        "outputId": "6c5fe4b9-a914-47f3-b035-78220c537e48"
      },
      "execution_count": 2,
      "outputs": [
        {
          "output_type": "stream",
          "name": "stdout",
          "text": [
            "GD Parameters: [1.51485566 2.47134857]\n"
          ]
        }
      ]
    },
    {
      "cell_type": "code",
      "source": [
        "from sklearn.linear_model import LinearRegression\n",
        "from sklearn.model_selection import train_test_split\n",
        "from sklearn.metrics import mean_squared_error, r2_score\n",
        "from sklearn.preprocessing import StandardScaler\n",
        "\n",
        "# Generate more complex data\n",
        "np.random.seed(42)\n",
        "X_multi = np.random.randn(200, 3)  # 3 features\n",
        "y_multi = (2 * X_multi[:, 0] +\n",
        "           -1.5 * X_multi[:, 1] +\n",
        "           0.5 * X_multi[:, 2] +\n",
        "           3 + np.random.randn(200) * 1.5)\n",
        "\n",
        "# Split data\n",
        "X_train, X_test, y_train, y_test = train_test_split(\n",
        "    X_multi, y_multi, test_size=0.2, random_state=42\n",
        ")\n",
        "\n",
        "# Scale features\n",
        "scaler = StandardScaler()\n",
        "X_train_scaled = scaler.fit_transform(X_train)\n",
        "X_test_scaled = scaler.transform(X_test)\n",
        "\n",
        "# Create and fit model\n",
        "sklearn_model = LinearRegression()\n",
        "sklearn_model.fit(X_train_scaled, y_train)\n",
        "\n",
        "# Make predictions\n",
        "y_pred = sklearn_model.predict(X_test_scaled)\n",
        "\n",
        "# Evaluate\n",
        "mse = mean_squared_error(y_test, y_pred)\n",
        "r2 = r2_score(y_test, y_pred)\n",
        "\n",
        "print(f\"Sklearn Coefficients: {sklearn_model.coef_}\")\n",
        "print(f\"Sklearn Intercept: {sklearn_model.intercept_:.2f}\")\n",
        "print(f\"Mean Squared Error: {mse:.2f}\")\n",
        "print(f\"R-squared Score: {r2:.2f}\")"
      ],
      "metadata": {
        "colab": {
          "base_uri": "https://localhost:8080/"
        },
        "id": "MD2Jye56mhqn",
        "outputId": "120f67e6-b3a2-49a9-b555-0bd9b6d9ef03"
      },
      "execution_count": 3,
      "outputs": [
        {
          "output_type": "stream",
          "name": "stdout",
          "text": [
            "Sklearn Coefficients: [ 1.64414024 -1.35478886  0.65146734]\n",
            "Sklearn Intercept: 3.40\n",
            "Mean Squared Error: 1.93\n",
            "R-squared Score: 0.76\n"
          ]
        }
      ]
    },
    {
      "cell_type": "code",
      "source": [
        "from sklearn.preprocessing import PolynomialFeatures\n",
        "from sklearn.pipeline import Pipeline\n",
        "\n",
        "# Generate non-linear data\n",
        "np.random.seed(42)\n",
        "X_nonlinear = np.linspace(-3, 3, 100).reshape(-1, 1)\n",
        "y_nonlinear = 0.5 * X_nonlinear**2 + X_nonlinear + 2 + np.random.randn(100, 1) * 0.5\n",
        "\n",
        "# Create polynomial regression pipeline\n",
        "poly_model = Pipeline([\n",
        "    ('poly', PolynomialFeatures(degree=2)),\n",
        "    ('linear', LinearRegression())\n",
        "])\n",
        "\n",
        "# Fit and predict\n",
        "poly_model.fit(X_nonlinear, y_nonlinear)\n",
        "y_poly_pred = poly_model.predict(X_nonlinear)\n",
        "\n",
        "# Plot results\n",
        "plt.figure(figsize=(12, 4))\n",
        "\n",
        "plt.subplot(1, 2, 1)\n",
        "plt.scatter(X_nonlinear, y_nonlinear, alpha=0.7, label='Data')\n",
        "plt.plot(X_nonlinear, y_poly_pred, color='red', label='Polynomial Fit')\n",
        "plt.xlabel('X')\n",
        "plt.ylabel('y')\n",
        "plt.title('Polynomial Regression')\n",
        "plt.legend()\n",
        "\n",
        "plt.subplot(1, 2, 2)\n",
        "# Plot loss history from gradient descent\n",
        "plt.plot(model_gd.loss_history)\n",
        "plt.xlabel('Iteration')\n",
        "plt.ylabel('Loss')\n",
        "plt.title('Gradient Descent Convergence')\n",
        "\n",
        "plt.tight_layout()\n",
        "plt.show()"
      ],
      "metadata": {
        "colab": {
          "base_uri": "https://localhost:8080/",
          "height": 407
        },
        "id": "IIN7kfasmlSq",
        "outputId": "6a83eaba-a465-404a-f2f2-54e004d87168"
      },
      "execution_count": 4,
      "outputs": [
        {
          "output_type": "display_data",
          "data": {
            "text/plain": [
              "<Figure size 1200x400 with 2 Axes>"
            ],
            "image/png": "[encoded data removed]"
          },
          "metadata": {}
        }
      ]
    },
    {
      "cell_type": "code",
      "source": [
        "import pandas as pd\n",
        "from sklearn.datasets import fetch_california_housing\n",
        "from sklearn.model_selection import cross_val_score\n",
        "\n",
        "# Load California housing dataset\n",
        "california = fetch_california_housing()\n",
        "X = california.data\n",
        "y = california.target\n",
        "\n",
        "# Create DataFrame for better visualization\n",
        "df = pd.DataFrame(X, columns=california.feature_names)\n",
        "df['Price'] = y\n",
        "\n",
        "print(\"Dataset shape:\", X.shape)\n",
        "print(\"\\nFirst few rows:\")\n",
        "print(df.head())\n",
        "\n",
        "# Prepare data\n",
        "X_train, X_test, y_train, y_test = train_test_split(\n",
        "    X, y, test_size=0.2, random_state=42\n",
        ")\n",
        "\n",
        "# Scale features\n",
        "scaler = StandardScaler()\n",
        "X_train_scaled = scaler.fit_transform(X_train)\n",
        "X_test_scaled = scaler.transform(X_test)\n",
        "\n",
        "# Train model\n",
        "final_model = LinearRegression()\n",
        "final_model.fit(X_train_scaled, y_train)\n",
        "\n",
        "# Evaluate\n",
        "train_score = final_model.score(X_train_scaled, y_train)\n",
        "test_score = final_model.score(X_test_scaled, y_test)\n",
        "y_pred = final_model.predict(X_test_scaled)\n",
        "mse = mean_squared_error(y_test, y_pred)\n",
        "\n",
        "print(f\"\\nModel Performance:\")\n",
        "print(f\"Training R²: {train_score:.4f}\")\n",
        "print(f\"Test R²: {test_score:.4f}\")\n",
        "print(f\"Mean Squared Error: {mse:.4f}\")\n",
        "\n",
        "# Cross-validation\n",
        "cv_scores = cross_val_score(final_model, X_train_scaled, y_train, cv=5)\n",
        "print(f\"Cross-validation scores: {cv_scores}\")\n",
        "print(f\"Mean CV score: {cv_scores.mean():.4f} (+/- {cv_scores.std() * 2:.4f})\")\n",
        "\n",
        "# Feature importance\n",
        "feature_importance = pd.DataFrame({\n",
        "    'feature': california.feature_names,\n",
        "    'coefficient': final_model.coef_\n",
        "}).sort_values('coefficient', key=abs, ascending=False)\n",
        "\n",
        "print(f\"\\nFeature Importance:\")\n",
        "print(feature_importance)"
      ],
      "metadata": {
        "colab": {
          "base_uri": "https://localhost:8080/"
        },
        "id": "KJTrdz0Omnfi",
        "outputId": "55fbfc37-0074-4445-d3a1-5ac7bf5f19bf"
      },
      "execution_count": 5,
      "outputs": [
        {
          "output_type": "stream",
          "name": "stdout",
          "text": [
            "Dataset shape: (20640, 8)\n",
            "\n",
            "First few rows:\n",
            "   MedInc  HouseAge  AveRooms  AveBedrms  Population  AveOccup  Latitude  \\\n",
            "0  8.3252      41.0  6.984127   1.023810       322.0  2.555556     37.88   \n",
            "1  8.3014      21.0  6.238137   0.971880      2401.0  2.109842     37.86   \n",
            "2  7.2574      52.0  8.288136   1.073446       496.0  2.802260     37.85   \n",
            "3  5.6431      52.0  5.817352   1.073059       558.0  2.547945     37.85   \n",
            "4  3.8462      52.0  6.281853   1.081081       565.0  2.181467     37.85   \n",
            "\n",
            "   Longitude  Price  \n",
            "0    -122.23  4.526  \n",
            "1    -122.22  3.585  \n",
            "2    -122.24  3.521  \n",
            "3    -122.25  3.413  \n",
            "4    -122.25  3.422  \n",
            "\n",
            "Model Performance:\n",
            "Training R²: 0.6126\n",
            "Test R²: 0.5758\n",
            "Mean Squared Error: 0.5559\n",
            "Cross-validation scores: [0.62011512 0.61298876 0.6134416  0.61069973 0.60017477]\n",
            "Mean CV score: 0.6115 (+/- 0.0129)\n",
            "\n",
            "Feature Importance:\n",
            "      feature  coefficient\n",
            "6    Latitude    -0.896929\n",
            "7   Longitude    -0.869842\n",
            "0      MedInc     0.854383\n",
            "3   AveBedrms     0.339259\n",
            "2    AveRooms    -0.294410\n",
            "1    HouseAge     0.122546\n",
            "5    AveOccup    -0.040829\n",
            "4  Population    -0.002308\n"
          ]
        }
      ]
    }
  ]
}